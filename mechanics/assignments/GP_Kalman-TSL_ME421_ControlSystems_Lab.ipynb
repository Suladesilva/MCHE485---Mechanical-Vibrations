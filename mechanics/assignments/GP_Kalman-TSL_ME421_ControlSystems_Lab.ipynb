{
  "nbformat": 4,
  "nbformat_minor": 0,
  "metadata": {
    "colab": {
      "provenance": [],
      "include_colab_link": true
    },
    "kernelspec": {
      "name": "python3",
      "display_name": "Python 3"
    },
    "language_info": {
      "name": "python"
    }
  },
  "cells": [
    {
      "cell_type": "markdown",
      "metadata": {
        "id": "view-in-github",
        "colab_type": "text"
      },
      "source": [
        "<a href=\"https://colab.research.google.com/github/Suladesilva/MCHE485---Mechanical-Vibrations/blob/master/mechanics/assignments/GP_Kalman-TSL_ME421_ControlSystems_Lab.ipynb\" target=\"_parent\"><img src=\"https://colab.research.google.com/assets/colab-badge.svg\" alt=\"Open In Colab\"/></a>"
      ]
    },
    {
      "cell_type": "markdown",
      "source": [
        "#Instructions"
      ],
      "metadata": {
        "id": "tjwc7ZikCWjn"
      }
    },
    {
      "cell_type": "markdown",
      "source": [
        "* This is a group assignment. Complete the activities in groups that were assigned for ME421 for the vibrations lab.\n",
        "\n",
        "* Make a copy of this and save it in your group github group repository.\n",
        "\n",
        "* Do all your work, EXCLUSIVELY, in that saved notebook. Your github commits will serve as a refelection of your individual contributions. It will constitute 25% of your final grade for the lab.\n",
        "\n",
        "* Complete all the first 3 tasks by 21/06/2023 and demonstrate the work in the class on 21/06/2023.\n",
        "\n",
        "* Complete Tasks#1 and Task#2 by 5:00PM on 14/06/2023\n",
        "\n",
        "* Complete Tasks#3 and the Task#4 by 5:00PM on 21/06/2023 and demonstrate the work in the class on 21/06/2023.\n",
        "\n",
        "* Complete Task#5 by 5:00PM on 28/06/2023."
      ],
      "metadata": {
        "id": "pOeY40kCCZIY"
      }
    },
    {
      "cell_type": "markdown",
      "source": [
        "#References"
      ],
      "metadata": {
        "id": "xQxmvsoX2wtl"
      }
    },
    {
      "cell_type": "markdown",
      "source": [
        "* https://colab.research.google.com/github/mugalan/classical-mechanics-from-a-geometric-point-of-view/blob/main/rigid-body-control/Mugas_Rigid_Body_Control.ipynb\n",
        "\n",
        "* https://github.com/mugalan/classical-mechanics-from-a-geometric-point-of-view/blob/main/rigid-body-control/MaithriPalaDHS_RigidBodyPIDControl_IITB_18_03_2023.pdf"
      ],
      "metadata": {
        "id": "N2PYkHmG2y9o"
      }
    },
    {
      "cell_type": "markdown",
      "source": [
        "#Task#1"
      ],
      "metadata": {
        "id": "JhWYC6Kv2l4k"
      }
    },
    {
      "cell_type": "markdown",
      "metadata": {
        "id": "GjPELOm2sJQg"
      },
      "source": [
        "Conside a rigid body moving in space. Let $\\mathbf{b}$ be a body fixed frame with the origin coinciding with that of the center of mass of the body, $M$ be the tatal mass of the body, $\\mathbb{I}$ be the inertia tensor of the body with respect to the body frame $\\mathbf{b}$, $f^e$ be the resultant total external interactions acting on the particles of the body, and $\\tau^e$ be the total resultant of the moments of the external interactions about the center of mass of the body.\n",
        "\n",
        "Show that a general rigid body is descibed by the following simple equations in an inertial frame $\\mathbf{e}$ where the moments are taken about the center of mass of the rigid body."
      ]
    },
    {
      "cell_type": "markdown",
      "metadata": {
        "id": "2FFWl8Whs8HJ"
      },
      "source": [
        "\\begin{align}\n",
        "\\dot{o}&=\\frac{1}{M}p\\\\\n",
        "\\dot{R}&=\\widehat{\\omega}R,\\\\\n",
        "\\dot{p}&=f^e+f^u,\\\\\n",
        "\\dot{\\pi}&=\\tau^e+\\tau^u,\n",
        "\\end{align}\n",
        "where\n",
        "\\begin{align}\n",
        "\\omega &=(\\mathbb{I}_c^R)^{-1}\\pi,\n",
        "\\end{align}\n",
        "Here we have split the force and control moments into unmanipulatable and manipulatable (control) part. The manipulatable (control) part will be denoted by a superscript $u$."
      ]
    },
    {
      "cell_type": "markdown",
      "source": [
        "### Answer for task 1"
      ],
      "metadata": {
        "id": "nkLBeOeZDR0p"
      }
    },
    {
      "cell_type": "markdown",
      "source": [
        "#### Equation 1\n",
        "\n",
        "\\begin{align}\n",
        "\\dot{o}&=\\frac{1}{M}p\n",
        "\\end{align}"
      ],
      "metadata": {
        "id": "Qwn9ZDSXs2S2"
      }
    },
    {
      "cell_type": "markdown",
      "source": [
        "From Newton's second law,\n",
        "\\begin{equation}\n",
        "\\frac{d\\mathbf{p}}{dt} = \\sum \\mathbf{F}\n",
        "\\end{equation}\n",
        "\n",
        "\n",
        "where,\n",
        "\n",
        " * $\\frac{d\\mathbf{p}}{dt}$ - the derivative of the momentum, $\\mathbf{p}$ with respect to time\n",
        "\n",
        " * $\\sum \\mathbf{F}$  - sum of all external forces acting on the body\n",
        "\n",
        "Also for a rigid body we can say,\n",
        "\n",
        "\\begin{equation}\n",
        "\\mathbf{p} = \\sum m_i \\mathbf{v}_i,\n",
        "\\end{equation}\n",
        "\n",
        "where,\n",
        "\n",
        " * $m_i$ is the mass of the $i$ th particle, and $\\mathbf{v}_i$ is its velocity.\n",
        "\n",
        "For the weighted average of all particle locations, with the weights determined by the masses of the particles, may be used to determine the center of mass of a rigid body. Therefore we ca say,\n",
        "\\begin{equation}\n",
        "\\mathbf{o} = \\frac{1}{M} \\sum m_i \\mathbf{r}_i  ---->(1)\n",
        "\\end{equation}\n",
        "\n",
        "where\n",
        "\n",
        "* $\\mathbf{o}$ is the position vector of the center of mass\n",
        "* $\\mathbf{r}_i$ is the position vector of the $i$ th particle\n",
        "* $M$ is the total mass of the body ; ( $M = \\sum m_i$ )\n",
        "\n",
        "differentiate equation (1)  respect to time,\n",
        "\\begin{align}\n",
        "\\dot{\\mathbf{o}} & =\\frac{d}{dt} \\left( \\frac{1}{M} \\sum m_i \\mathbf{r}_i \\right)\\\\\n",
        "  & =\\frac{1}{M} \\sum m_i \\frac{d\\mathbf{r}_i}{dt}\\\\\n",
        "  & =\\frac{1}{M} \\sum m_i \\mathbf{v}_i  \\hspace{1cm} ; where \\hspace{1cm} $\\frac{d\\mathbf{r}_i}{dt} = \\mathbf{v}_i\\\\\n",
        "  & =\\frac{1}{M} \\mathbf{p}\n",
        "\\end{align}\n",
        "\n",
        "Threfore we have,\n",
        "\n",
        "\\begin{align}\n",
        "\\dot{o}&=\\frac{1}{M}p\n",
        "\\end{align}\n"
      ],
      "metadata": {
        "id": "jEzG-K87g3Vq"
      }
    },
    {
      "cell_type": "markdown",
      "source": [
        "#### Equation 2\n",
        "\n",
        "\\begin{align}\n",
        "\\dot{R}&=\\widehat{\\omega}R\n",
        "\\end{align}"
      ],
      "metadata": {
        "id": "CHhpA8fdg3SF"
      }
    },
    {
      "cell_type": "markdown",
      "source": [
        "The rotation matrix, $R$, represents the orientation of the body in 3D space.\n",
        "\n",
        "The angular velocity vector, $\\boldsymbol{\\omega}$, describes the rate of rotation.\n",
        "\n",
        "The derivative of the rotation matrix, $\\dot{R}$, represents the change in orientation over time.\n",
        "\n",
        "The relationship between $\\dot{R}$ and $\\boldsymbol{\\omega}$ is given by\n",
        "\\begin{equation}\n",
        " \\dot{R} = R * \\widehat{\\boldsymbol{\\omega}}\n",
        "\\end{equation}\n",
        "$ \\widehat{\\boldsymbol{\\omega}}$ is a skew-symmetric matrix derived from $\\boldsymbol{\\omega}$.\n",
        "\n",
        "Multiplying $R$ by $ \\widehat{\\boldsymbol{\\omega}}$ yields the time derivative of the rotation matrix.\n",
        "\n",
        "Consider the frame in which $\\boldsymbol{\\omega}$ is expressed when using the equation.\n",
        "\n",
        "\\begin{equation}\n",
        "\\dot{R} = \\widehat{\\boldsymbol{\\omega}} R\n",
        "\\end{equation}\n",
        "\n",
        "Additionaly,\n",
        "\n",
        "Considering a point $P$ fixed in the body frame,\n",
        "\n",
        "We can say its position vector in the inertial frame,\n",
        "\\begin{equation}\n",
        "\\mathbf{r} = R \\mathbf{r}_0\n",
        "\\end{equation}\n",
        "where,\n",
        "\n",
        "* $\\mathbf{r}_0$ is the position vector of $P$ in the body-fixed frame.\n",
        "\n",
        "differenciate by time,\n",
        "\n",
        "\\begin{align}\n",
        "\\dot{\\mathbf{r}} &= \\frac{d}{dt} (R \\mathbf{r}_0)\\\\\n",
        "&= \\dot{R} \\mathbf{r}_0\n",
        "\\end{align}\n",
        "\n",
        "Considering\n",
        "\\begin{equation}\n",
        "\\boldsymbol{\\omega} = \\dot{\\mathbf{r}},\n",
        "\\end{equation}\n",
        "\n",
        "We can say,\n",
        "\\begin{equation}\n",
        "\\boldsymbol{\\omega} \\times \\mathbf{r} = (\\dot{R} \\mathbf{r}_0) \\times (R \\mathbf{r}_0)\n",
        "\\end{equation}\n",
        "\n",
        "Since $\\mathbf{r}_0$ is an arbitrary vector we can say,\n",
        "\\begin{align}\n",
        "\\boldsymbol{\\omega} \\times \\mathbf{r} &= \\dot{R} R \\mathbf{r}_0\\\\\n",
        "\\boldsymbol{\\omega} \\times (R \\mathbf{r}_0) &= \\dot{R} R \\mathbf{r}_0\n",
        "\\end{align}\n",
        "\n",
        "Multiply both sides by $R^{-1}$\n",
        "\\begin{equation}\n",
        "\\boldsymbol{\\omega} \\times \\mathbf{r}_0 = \\dot{R} R\n",
        "\\end{equation}\n",
        "\n",
        "Hence, we can state that the cross product of $\\boldsymbol{\\omega}$ and $\\mathbf{r}_0$, denoted as $\\boldsymbol{\\omega} \\times \\mathbf{r}_0$, can be represented by the skew-symmetric matrix $\\widehat{\\boldsymbol{\\omega}}$.\n",
        "\n",
        "\n",
        "\\begin{equation}\n",
        "\\boldsymbol{\\omega} \\times \\mathbf{r}_0 = \\widehat{\\boldsymbol{\\omega}} \\mathbf{r}_0\n",
        "\\end{equation}\n",
        "\n",
        "Substituting this into the previous equation,\n",
        "\n",
        "\\begin{equation}\n",
        "\\widehat{\\boldsymbol{\\omega}} \\mathbf{r}_0 = \\dot{R} R\n",
        "\\end{equation}\n",
        "\n",
        "This equation connects  $\\widehat{\\boldsymbol{\\omega}}$ to the  $\\dot{R}$. Thus, the equation that characterizes the rotational motion of a rigid body, $\\dot{R} = \\widehat{\\boldsymbol{\\omega}} R$, has been obtained."
      ],
      "metadata": {
        "id": "fw8TWe-vuGpn"
      }
    },
    {
      "cell_type": "markdown",
      "source": [
        "#### Equation 3\n",
        "\n",
        "\\begin{align}\n",
        "\\dot{p}&=f^e+f^u\n",
        "\\end{align}\n",
        "\n",
        "#### Equation 4\n",
        "\n",
        "\\begin{align}\n",
        "\\dot{\\pi}&=\\tau^e+\\tau^u\n",
        "\\end{align}"
      ],
      "metadata": {
        "id": "QDYbaaGCtXJt"
      }
    },
    {
      "cell_type": "markdown",
      "source": [
        "**Linear Momentum:**\n",
        "Newton's second law states that the rate of change of linear momentum is equal to the net force acting on an object. Considering a rigid body, we can express this as:\n",
        "\\begin{equation}\n",
        "\\dot{p} = \\sum f,\n",
        "\\end{equation}\n",
        "\n",
        "where $\\dot{p}$ represents the time derivative of linear momentum, and $\\sum f$ denotes the sum of all forces acting on the body.\n",
        "\n",
        "**External and Unmanipulatable Forces:**\n",
        "As forces act on a body, moments can also arise from both external and internal sources. To distinguish between them, we divide the total moment into two components: the resultant external moment $\\tau^e$ and the unmanipulatable moment $\\tau^u$.\n",
        "\n",
        "The resultant external moment $\\tau^e$ represents the overall moment exerted on the body by external sources, such as torque applied by external forces or moments resulting from interactions with the surroundings. These moments cannot be directly controlled or manipulated by the body.\n",
        "\n",
        "\n",
        "The unmanipulatable force $f^u$ corresponds to forces that originate from internal sources (such as control forces) or external sources that the body can control or manipulate. These forces are commonly employed to achieve intended motions or regulate the behavior of the body.\n",
        "\n",
        "\n",
        "**Angular Momentum:**\n",
        "Just as linear momentum is conserved when there are no external forces, angular momentum is also conserved. However, when external moments act on a rigid body, the angular momentum undergoes changes. This can be expressed as:\n",
        "\n",
        "\\begin{equation}\n",
        "\\dot{\\pi} = \\sum \\tau,\n",
        "\\end{equation}\n",
        "\n",
        "Here, $\\dot{\\pi}$ represents the time derivative of angular momentum, and $\\sum \\tau$ indicates the sum of all moments acting on the body.\n",
        "\n",
        "\n",
        "**External and Unmanipulatable Moments:**\n",
        "Both external and internal sources can contribute to the moments acting on a body, similar to forces. To differentiate between them, we divide the total moment into two components: the resultant external moment $\\tau^e$ and the unmanipulatable moment $\\tau^u$.\n",
        "\n",
        "The resultant external moment $\\tau^e$ represents the overall moment exerted on the body by external sources, such as torque applied by external forces or moments arising from interactions with the environment. These moments are beyond the direct control or manipulation of the body itself.\n",
        "\n",
        "\n",
        "The unmanipulatable moment $\\tau^u$ denotes moments that originate from internal sources (such as control moments) or external sources that the body can control or manipulate. These moments are commonly utilized to attain desired rotations or regulate the orientation of the body.\n",
        "\n",
        "**Combining External and Unmanipulatable Parts:**\n",
        "To consider both the external and unmanipulatable forces and moments, we combine the corresponding parts as follows:\n",
        "\n",
        "\\begin{equation}\n",
        "\\dot{p} = f^e + f^u, \\quad \\dot{\\pi} = \\tau^e + \\tau^u.\n",
        "\\end{equation}\n",
        "\n",
        "These equations represent the change in linear momentum and angular momentum of a rigid body, where the changes are determined by the combined effects of the resultant external interactions ($f^e$ and $\\tau^e$) and the unmanipulatable interactions ($f^u$ and $\\tau^u$).\n"
      ],
      "metadata": {
        "id": "yx_I1jfYuHwj"
      }
    },
    {
      "cell_type": "markdown",
      "source": [
        "#Task#2"
      ],
      "metadata": {
        "id": "PT5T8y9-3h1H"
      }
    },
    {
      "cell_type": "markdown",
      "source": [
        "Simulate the motion of a quadrotor UAV without resorting any parameterization of $SO(3)$ such as Euler angles or quaternions."
      ],
      "metadata": {
        "id": "iETMxXB04IZj"
      }
    },
    {
      "cell_type": "markdown",
      "source": [
        "#Task#3"
      ],
      "metadata": {
        "id": "iYtoUarB4L6Q"
      }
    },
    {
      "cell_type": "markdown",
      "source": [
        "Deerive a PID controller for the attitude control of a quadrorotor and use simulations to demibstrate the very large region of stability of the controller"
      ],
      "metadata": {
        "id": "AxOY5o-34TCz"
      }
    },
    {
      "cell_type": "markdown",
      "source": [
        "Here are few example our own implementations of this controller.\n",
        "\n",
        "* https://youtu.be/6E9WDQNVSYA\n",
        "* https://youtu.be/uUKxXImRMOA\n",
        "* https://youtu.be/zq05N8m_9SA\n",
        "* https://youtu.be/J5dThZGZN2g\n",
        "* https://youtu.be/J5MMp6Be3tU\n",
        "* https://youtu.be/6ZQgE1FI6Wc"
      ],
      "metadata": {
        "id": "cInu25giFEXw"
      }
    },
    {
      "cell_type": "markdown",
      "source": [
        "#Task#4"
      ],
      "metadata": {
        "id": "o6XRW2MR4nVw"
      }
    },
    {
      "cell_type": "markdown",
      "source": [
        "Derive a specialization of the controller develoed in Task#3 for the problem of stabilzing an inverted pendulum on a cart."
      ],
      "metadata": {
        "id": "u9vdw-yM4rem"
      }
    },
    {
      "cell_type": "markdown",
      "source": [
        "#Task#5"
      ],
      "metadata": {
        "id": "jkEiEv8sEPhG"
      }
    },
    {
      "cell_type": "markdown",
      "source": [
        " Experimentally verify the stability properties of the controller derived in Task#5 using the experimental setup available in the applied mechanics lab."
      ],
      "metadata": {
        "id": "w2WRdKSTEQ7i"
      }
    }
  ]
}